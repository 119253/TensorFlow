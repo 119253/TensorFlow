{
  "nbformat": 4,
  "nbformat_minor": 0,
  "metadata": {
    "colab": {
      "name": "TensorFlowProject.ipynb",
      "provenance": [],
      "authorship_tag": "ABX9TyOmQGZQaNb4Ehz1rXzPfaZz",
      "include_colab_link": true
    },
    "kernelspec": {
      "name": "python3",
      "display_name": "Python 3"
    }
  },
  "cells": [
    {
      "cell_type": "markdown",
      "metadata": {
        "id": "view-in-github",
        "colab_type": "text"
      },
      "source": [
        "<a href=\"https://colab.research.google.com/github/119253/TensorFlow/blob/main/TensorFlowProject.ipynb\" target=\"_parent\"><img src=\"https://colab.research.google.com/assets/colab-badge.svg\" alt=\"Open In Colab\"/></a>"
      ]
    },
    {
      "cell_type": "code",
      "metadata": {
        "id": "M4DqLCFdeli-"
      },
      "source": [
        "from __future__ import print_function\r\n",
        "import tensorflow as tf"
      ],
      "execution_count": 5,
      "outputs": []
    },
    {
      "cell_type": "code",
      "metadata": {
        "id": "2IxRxPGSep_C"
      },
      "source": [
        "# Define tensor constants.\r\n",
        "a = tf.constant(2)\r\n",
        "b = tf.constant(3)\r\n",
        "c = tf.constant(5)"
      ],
      "execution_count": 6,
      "outputs": []
    },
    {
      "cell_type": "code",
      "metadata": {
        "colab": {
          "base_uri": "https://localhost:8080/"
        },
        "id": "gI-wdUZYerrb",
        "outputId": "2ffc219b-e2d0-4ce4-f75e-89459a045d73"
      },
      "source": [
        "# Note: Tensors also support python operators (+, *, ...)\r\n",
        "add = tf.add(a, b)\r\n",
        "sub = tf.subtract(a, b)\r\n",
        "mul = tf.multiply(a, b)\r\n",
        "div = tf.divide(a, b)\r\n",
        "\r\n",
        "# Access tensors value.\r\n",
        "print(\"add =\", add.numpy())\r\n",
        "print(\"sub =\", sub.numpy())\r\n",
        "print(\"mul =\", mul.numpy())\r\n",
        "print(\"div =\", div.numpy())"
      ],
      "execution_count": 7,
      "outputs": [
        {
          "output_type": "stream",
          "text": [
            "add = 5\n",
            "sub = -1\n",
            "mul = 6\n",
            "div = 0.6666666666666666\n"
          ],
          "name": "stdout"
        }
      ]
    },
    {
      "cell_type": "code",
      "metadata": {
        "colab": {
          "base_uri": "https://localhost:8080/"
        },
        "id": "0yK_qcmKeuNN",
        "outputId": "3a42a142-fe52-446f-d1ba-609f6cb8e12f"
      },
      "source": [
        "# Some more operations.\r\n",
        "mean = tf.reduce_mean([a, b, c])\r\n",
        "sum = tf.reduce_sum([a, b, c])\r\n",
        "\r\n",
        "# Access tensors value.\r\n",
        "print(\"mean =\", mean.numpy())\r\n",
        "print(\"sum =\", sum.numpy())"
      ],
      "execution_count": 8,
      "outputs": [
        {
          "output_type": "stream",
          "text": [
            "mean = 3\n",
            "sum = 10\n"
          ],
          "name": "stdout"
        }
      ]
    },
    {
      "cell_type": "code",
      "metadata": {
        "id": "UMpuzGp6ewKb"
      },
      "source": [
        "# Matrix multiplications.\r\n",
        "matrix1 = tf.constant([[1., 2.], [3., 4.]])\r\n",
        "matrix2 = tf.constant([[5., 6.], [7., 8.]])\r\n",
        "\r\n",
        "product = tf.matmul(matrix1, matrix2)"
      ],
      "execution_count": 9,
      "outputs": []
    },
    {
      "cell_type": "code",
      "metadata": {
        "colab": {
          "base_uri": "https://localhost:8080/"
        },
        "id": "Ln-r-qNIeyaq",
        "outputId": "5e4ad379-e802-41f6-d565-b5493eb68df8"
      },
      "source": [
        "# Display Tensor.\r\n",
        "product"
      ],
      "execution_count": 10,
      "outputs": [
        {
          "output_type": "execute_result",
          "data": {
            "text/plain": [
              "<tf.Tensor: shape=(2, 2), dtype=float32, numpy=\n",
              "array([[19., 22.],\n",
              "       [43., 50.]], dtype=float32)>"
            ]
          },
          "metadata": {
            "tags": []
          },
          "execution_count": 10
        }
      ]
    },
    {
      "cell_type": "code",
      "metadata": {
        "colab": {
          "base_uri": "https://localhost:8080/"
        },
        "id": "bqxrF8Gce0dU",
        "outputId": "cc089e6e-b42d-4995-f8ca-72bdb82760a2"
      },
      "source": [
        "# Convert Tensor to Numpy.\r\n",
        "product.numpy()"
      ],
      "execution_count": 11,
      "outputs": [
        {
          "output_type": "execute_result",
          "data": {
            "text/plain": [
              "array([[19., 22.],\n",
              "       [43., 50.]], dtype=float32)"
            ]
          },
          "metadata": {
            "tags": []
          },
          "execution_count": 11
        }
      ]
    }
  ]
}